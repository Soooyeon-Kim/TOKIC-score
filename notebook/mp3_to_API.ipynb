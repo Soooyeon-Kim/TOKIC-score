{
 "cells": [
  {
   "cell_type": "code",
   "execution_count": 1,
   "metadata": {
    "id": "11yRP5rYMp3t"
   },
   "outputs": [],
   "source": [
    "from sklearn.feature_extraction.text import CountVectorizer\n",
    "from sklearn.metrics.pairwise import cosine_similarity\n"
   ]
  },
  {
   "cell_type": "code",
   "execution_count": 6,
   "metadata": {},
   "outputs": [
    {
     "name": "stdout",
     "output_type": "stream",
     "text": [
      "Collecting gensim==3.8.1\n",
      "  Using cached gensim-3.8.1-cp38-cp38-macosx_10_9_x86_64.whl\n",
      "Requirement already satisfied: numpy>=1.11.3 in /Users/jihyun/opt/anaconda3/lib/python3.8/site-packages (from gensim==3.8.1) (1.20.1)\n",
      "Requirement already satisfied: six>=1.5.0 in /Users/jihyun/opt/anaconda3/lib/python3.8/site-packages (from gensim==3.8.1) (1.15.0)\n",
      "Collecting smart-open>=1.8.1\n",
      "  Using cached smart_open-5.2.1-py3-none-any.whl (58 kB)\n",
      "Requirement already satisfied: scipy>=0.18.1 in /Users/jihyun/opt/anaconda3/lib/python3.8/site-packages (from gensim==3.8.1) (1.6.2)\n",
      "Installing collected packages: smart-open, gensim\n",
      "Successfully installed gensim-3.8.1 smart-open-5.2.1\n",
      "Note: you may need to restart the kernel to use updated packages.\n"
     ]
    }
   ],
   "source": [
    "pip install gensim==3.8.1"
   ]
  },
  {
   "cell_type": "code",
   "execution_count": 8,
   "metadata": {},
   "outputs": [
    {
     "name": "stdout",
     "output_type": "stream",
     "text": [
      "Collecting pydub\n",
      "  Using cached pydub-0.25.1-py2.py3-none-any.whl (32 kB)\n",
      "Installing collected packages: pydub\n",
      "Successfully installed pydub-0.25.1\n",
      "Note: you may need to restart the kernel to use updated packages.\n"
     ]
    }
   ],
   "source": [
    "pip install pydub"
   ]
  },
  {
   "cell_type": "code",
   "execution_count": 7,
   "metadata": {},
   "outputs": [
    {
     "ename": "ModuleNotFoundError",
     "evalue": "No module named 'pydub'",
     "output_type": "error",
     "traceback": [
      "\u001b[0;31m---------------------------------------------------------------------------\u001b[0m",
      "\u001b[0;31mModuleNotFoundError\u001b[0m                       Traceback (most recent call last)",
      "\u001b[0;32m<ipython-input-7-e4ddeb5a7fdd>\u001b[0m in \u001b[0;36m<module>\u001b[0;34m\u001b[0m\n\u001b[1;32m      3\u001b[0m \u001b[0;32mfrom\u001b[0m \u001b[0mgensim\u001b[0m\u001b[0;34m.\u001b[0m\u001b[0mmodels\u001b[0m \u001b[0;32mimport\u001b[0m \u001b[0mWord2Vec\u001b[0m\u001b[0;34m\u001b[0m\u001b[0;34m\u001b[0m\u001b[0m\n\u001b[1;32m      4\u001b[0m \u001b[0;34m\u001b[0m\u001b[0m\n\u001b[0;32m----> 5\u001b[0;31m \u001b[0;32mfrom\u001b[0m \u001b[0mpydub\u001b[0m \u001b[0;32mimport\u001b[0m \u001b[0mAudioSegment\u001b[0m\u001b[0;34m\u001b[0m\u001b[0;34m\u001b[0m\u001b[0m\n\u001b[0m\u001b[1;32m      6\u001b[0m \u001b[0;32mimport\u001b[0m \u001b[0mnumpy\u001b[0m \u001b[0;32mas\u001b[0m \u001b[0mnp\u001b[0m\u001b[0;34m\u001b[0m\u001b[0;34m\u001b[0m\u001b[0m\n\u001b[1;32m      7\u001b[0m \u001b[0;34m\u001b[0m\u001b[0m\n",
      "\u001b[0;31mModuleNotFoundError\u001b[0m: No module named 'pydub'"
     ]
    }
   ],
   "source": [
    "from konlpy.tag import Komoran\n",
    "from nltk.probability import FreqDist\n",
    "from gensim.models import Word2Vec\n",
    "\n",
    "from pydub import AudioSegment\n",
    "import numpy as np\n",
    "\n",
    "from pydub import AudioSegment\n",
    "import base64\n",
    "import urllib3\n",
    "import json"
   ]
  },
  {
   "cell_type": "markdown",
   "metadata": {
    "id": "MR5y7DzEZ0v7"
   },
   "source": [
    "# 나중에 추가할것"
   ]
  },
  {
   "cell_type": "code",
   "execution_count": 128,
   "metadata": {
    "colab": {
     "base_uri": "https://localhost:8080/"
    },
    "id": "Fb2bCZZoNEX-",
    "outputId": "d207bcec-641e-4765-81b5-e9ea6fe7685f"
   },
   "outputs": [
    {
     "name": "stdout",
     "output_type": "stream",
     "text": [
      "- 채널수: 1\n",
      "- 샘플 길이: 2\n",
      "- 프레임율(frame rate): 16000\n",
      "- 프레임폭(frame width): 2\n",
      "- 길이 (ms): 30976\n"
     ]
    }
   ],
   "source": [
    "print(f\"- 채널수: {audio_segment.channels}\")\n",
    "print(f\"- 샘플 길이: {audio_segment.sample_width}\")\n",
    "print(f\"- 프레임율(frame rate): {audio_segment.frame_rate}\")\n",
    "print(f\"- 프레임폭(frame width): {audio_segment.frame_width}\")\n",
    "print(f\"- 길이 (ms): {len(audio_segment)}\")"
   ]
  },
  {
   "cell_type": "markdown",
   "metadata": {
    "id": "pjj6hJj0a6qK"
   },
   "source": [
    "# 유창성"
   ]
  },
  {
   "cell_type": "markdown",
   "metadata": {
    "id": "ZsceIQWqa8E8"
   },
   "source": [
    "## 전처리"
   ]
  },
  {
   "cell_type": "code",
   "execution_count": 20,
   "metadata": {
    "id": "znC0pnW8M5fV"
   },
   "outputs": [],
   "source": [
    "def processing_audio(audioFilePath):\n",
    "\n",
    "  audio_segment = AudioSegment.from_mp3(audioFilePath)  # audio 파일을 ms단위로 분해\n",
    "  audio_segment = audio_segment.set_frame_rate(16000)  # sampling rate 16000으로 설정\n",
    "  audio_segment = audio_segment.set_channels(1) # channel을 1로 설정\n",
    "\n",
    "  return audio_segment"
   ]
  },
  {
   "cell_type": "markdown",
   "metadata": {
    "id": "gHP4-iHWa9uX"
   },
   "source": [
    "## 침묵 구간 측정"
   ]
  },
  {
   "cell_type": "code",
   "execution_count": 76,
   "metadata": {
    "id": "yk6Kff7ZV2wm"
   },
   "outputs": [],
   "source": [
    "def get_silence(user_answer, threshold, interval):\n",
    "    \n",
    "    # audio를 interval기준으로 into chunks로 분리\n",
    "    # interval 1이면 1 m/s\n",
    "    chunks = [user_answer[i:i+interval] for i in range(0, len(user_answer), interval)]\n",
    "    \n",
    "    # dBFS는 어떤 오디오 시스템이 클립핑(Clipping)이 발생하기 직전까지 사용할 수 있는 최대 신호의 크기\n",
    "    # 임계값 보다 낮은 dBFS을 침묵 구간으로 측정\n",
    "    silence_length = 0\n",
    "    for chunk in chunks:\n",
    "        if chunk.dBFS == float('-inf') or chunk.dBFS < threshold:\n",
    "            silence_length += 1\n",
    "\n",
    "\n",
    "    return silence_length"
   ]
  },
  {
   "cell_type": "markdown",
   "metadata": {
    "id": "ASmkGMLQbAA7"
   },
   "source": [
    "## 유창성 측정"
   ]
  },
  {
   "cell_type": "code",
   "execution_count": 6,
   "metadata": {
    "id": "81lFWo07aGPy"
   },
   "outputs": [],
   "source": [
    "def myrange(start, end, step):\n",
    "    r = start\n",
    "    while(r<end):\n",
    "        yield r\n",
    "        r += step"
   ]
  },
  {
   "cell_type": "code",
   "execution_count": 95,
   "metadata": {
    "id": "H_4GoUGsaHj3"
   },
   "outputs": [],
   "source": [
    "def score_fluency(audio):\n",
    "    threshold = -80\n",
    "    interval = 1\n",
    "    user_silence = get_silence(audio, threshold, interval) # 사용자의 침묵 시간\n",
    "\n",
    "    sec_rate = round(user_silence / len(audio_segment) * 100)\n",
    "    rate_list = [i for i in range(33, 101, 1)]  # 침묵 시간 비율\n",
    "    score_list = [round(s) for s in myrange(0, 100, round(100 / 67, 2))]\n",
    "    score_list.reverse()\n",
    "    score_dict = dict(zip(rate_list, score_list))  # 점수로 변환할 딕셔너리\n",
    "\n",
    "\n",
    "    # 말한 시간의 침묵이 1/3정도는 사람이 듣기에 유창하므로 1/3보다 정적이 적으면 만점\n",
    "    if sec_rate < 33: \n",
    "        score = 100\n",
    "    else:\n",
    "        score = score_dict[sec_rate]\n",
    "        \n",
    "    return score"
   ]
  },
  {
   "cell_type": "markdown",
   "metadata": {
    "id": "92rpLTV6b-jY"
   },
   "source": [
    "# 발음평가"
   ]
  },
  {
   "cell_type": "markdown",
   "metadata": {
    "id": "W4vq8zYLcAHP"
   },
   "source": [
    "## 음성 분해"
   ]
  },
  {
   "cell_type": "code",
   "execution_count": 8,
   "metadata": {
    "id": "d47WiYQ-bO_y"
   },
   "outputs": [],
   "source": [
    "def segment(audio_segment,interval = 5000):\n",
    "  chunks = [audio_segment[i:i+interval] for i in range(0, len(audio_segment), interval)]\n",
    "  rawdatas = [chunk.raw_data for chunk in chunks]\n",
    "\n",
    "  audioContents = []\n",
    "\n",
    "  for chunk in chunks:\n",
    "    rawdata= chunk.raw_data  # raw 데이터 추출\n",
    "    audiocontent = base64.b64encode(rawdata).decode(\"utf8\")  # 인코딩\n",
    "    audioContents.append(audiocontent)\n",
    "\n",
    "  return audioContents"
   ]
  },
  {
   "cell_type": "markdown",
   "metadata": {
    "id": "H4EotbS0cCEY"
   },
   "source": [
    "## 음성 인식\n",
    "모의고사가아닌 유형별 학습일 땐 정답있으니까 script에 정답 넣어주면 되겠다"
   ]
  },
  {
   "cell_type": "code",
   "execution_count": 9,
   "metadata": {
    "id": "jJV8GsQaNInT"
   },
   "outputs": [],
   "source": [
    "def API(audioContent,script=None):\n",
    "    \n",
    "    openApiURL = \"http://aiopen.etri.re.kr:8000/WiseASR/PronunciationKor\"\n",
    "    accessKey = \"ac679469-fbf1-4b08-abd7-f2aba1757ae6\"\n",
    "    languageCode = \"korean\"\n",
    "    requestJson = {\n",
    "        \"access_key\": accessKey,\n",
    "        \"argument\": {\n",
    "        \"language_code\": languageCode,\n",
    "    #    \"script\" : script,\n",
    "        \"audio\": audioContent\n",
    "        }\n",
    "    }\n",
    "\n",
    "    http = urllib3.PoolManager()\n",
    "    response = http.request(\n",
    "        \"POST\",\n",
    "        openApiURL,\n",
    "        headers={\"Content-Type\": \"application/json; charset=UTF-8\"},\n",
    "        body=json.dumps(requestJson)\n",
    "    )\n",
    "\n",
    "    js = response.data\n",
    "    y = json.loads(js)\n",
    "    user = y[\"return_object\"]['recognized']\n",
    "    score = y[\"return_object\"]['score'] \n",
    "\n",
    "    return user,score"
   ]
  },
  {
   "cell_type": "markdown",
   "metadata": {
    "id": "IhnqRvHtcDtr"
   },
   "source": [
    "## 발음 평가 "
   ]
  },
  {
   "cell_type": "code",
   "execution_count": 10,
   "metadata": {
    "id": "1_C7tANjNSIL"
   },
   "outputs": [],
   "source": [
    "def score_pronunciation(audioContents):\n",
    "  \n",
    "  user_answer = ''\n",
    "  final_score = 0\n",
    "\n",
    "  for audioContent in audioContents:\n",
    "    user,score = API(audioContent)\n",
    "\n",
    "    if user:\n",
    "      user_answer += user\n",
    "      final_score += score\n",
    "\n",
    "  final_score  = round(final_score / len(audioContents)) * 20 \n",
    "\n",
    "  return user_answer, final_score"
   ]
  },
  {
   "cell_type": "markdown",
   "metadata": {
    "id": "90HOUO1TdYEv"
   },
   "source": [
    "# 토크나이징"
   ]
  },
  {
   "cell_type": "code",
   "execution_count": 11,
   "metadata": {
    "id": "oiD29S-ZcLXo"
   },
   "outputs": [],
   "source": [
    "def tokenizing(tokenizer, text):\n",
    "    token = []\n",
    "    all_token = []\n",
    "    \n",
    "    for sent in text.split('.'):\n",
    "        morph = tokenizer.morphs(sent)\n",
    "        if morph:\n",
    "            token.append(morph)\n",
    "            all_token += morph\n",
    "    \n",
    "    tagged = tokenizer.pos(text)\n",
    "    nouns = [ word for word,pos in tagged if pos in ['NNG','NNP'] ]\n",
    "    \n",
    "    return token,nouns,all_token"
   ]
  },
  {
   "cell_type": "markdown",
   "metadata": {
    "id": "gPIh7ASdeP5k"
   },
   "source": [
    "# 키워드"
   ]
  },
  {
   "cell_type": "code",
   "execution_count": 12,
   "metadata": {
    "id": "q_mdU8mieQxJ"
   },
   "outputs": [],
   "source": [
    "def keyword(nouns):\n",
    "\n",
    "    fdist = FreqDist(nouns)\n",
    "    most_common = [token for token,freq in fdist.most_common(3)]\n",
    "    \n",
    "    return most_common"
   ]
  },
  {
   "cell_type": "markdown",
   "metadata": {
    "id": "2AmEwkqieSKR"
   },
   "source": [
    "# 표현력"
   ]
  },
  {
   "cell_type": "code",
   "execution_count": 46,
   "metadata": {
    "id": "Veq4ZvuVeRhy"
   },
   "outputs": [],
   "source": [
    "def expression(text, token, all_token):\n",
    "\n",
    "    text_len = len(text.replace(' ','')) # 답안 길이\n",
    "    word_len = len(set(all_token)) # 중복 제외 단어 수 \n",
    "    \n",
    "    # 토크나이징된 리스트에 대한 각 길이를 저장\n",
    "    word_len_list = [len(t) for t in token]\n",
    "    \n",
    "    sent_len = len(token) # 문장 수\n",
    "    word_len = sum(word_len_list) # 총 단어 수\n",
    "    avg_len = word_len//sent_len #문장별 평균 단어 수\n",
    "\n",
    "    return {'text_len': text_len,'word_len': word_len, 'sent_len': sent_len, 'avg_len':avg_len}"
   ]
  },
  {
   "cell_type": "code",
   "execution_count": 70,
   "metadata": {
    "id": "qKHfV8e-eUq8"
   },
   "outputs": [],
   "source": [
    "def score_expression(user_dict,answer_dict):\n",
    "    text_len = round(user_dict['text_len'] / answer_dict['text_len'] * 100)\n",
    "    word_len = round(user_dict['word_len'] / answer_dict['word_len'] * 100)\n",
    "    sent_len = round(user_dict['sent_len'] / answer_dict['sent_len'] * 100) \n",
    "    avg_len = round(user_dict['avg_len'] / answer_dict['avg_len'] * 100)\n",
    "    \n",
    "    score = round(0.15 * (text_len +  sent_len) + 0.35 * (word_len + avg_len))\n",
    "    \n",
    "    if score > 100: # 사용자가 모범답안보다 문장,단어를 더 풍부하게 사용한 경우\n",
    "        score = 100\n",
    "        \n",
    "    return score"
   ]
  },
  {
   "cell_type": "markdown",
   "metadata": {
    "id": "duxol2q4eWOt"
   },
   "source": [
    "# 모범답안 유사도"
   ]
  },
  {
   "cell_type": "code",
   "execution_count": 15,
   "metadata": {
    "id": "KROgu7vleVo8"
   },
   "outputs": [],
   "source": [
    "def text_similarity(user_all_token,answer_all_token):\n",
    "    user = ' '.join(user_all_token)\n",
    "    answer = ' '.join(answer_all_token)\n",
    "    sent = (user,answer)\n",
    "    count_vectorizer = CountVectorizer()\n",
    "    count_matrix = count_vectorizer.fit_transform(sent)\n",
    "    distance = cosine_similarity(count_matrix[0:1],count_matrix[1:2])[0][0] * 100\n",
    "    \n",
    "    return round(distance)"
   ]
  },
  {
   "cell_type": "code",
   "execution_count": 16,
   "metadata": {
    "id": "ACzm8_izeZ4-"
   },
   "outputs": [],
   "source": [
    "def score_similarity(user_all_token,user_nouns,answer_all_token,answer_nouns):\n",
    "    all_sim = text_similarity(user_all_token,answer_all_token)\n",
    "    nouns_sim = text_similarity(user_nouns,answer_nouns)\n",
    "    \n",
    "    return (all_sim + nouns_sim) //2 "
   ]
  },
  {
   "cell_type": "markdown",
   "metadata": {
    "id": "eTUfUWaSeaxF"
   },
   "source": [
    "# 주제의 연관성"
   ]
  },
  {
   "cell_type": "code",
   "execution_count": 17,
   "metadata": {
    "id": "fekdHo7oebja"
   },
   "outputs": [],
   "source": [
    "def score_relevance(model,answer_keyword, user_keyword):\n",
    "    sim_list = []\n",
    "    \n",
    "    for a in answer_keyword:\n",
    "        for u in user_keyword:\n",
    "            try:\n",
    "                sim_list.append(model.wv.similarity(a,u))\n",
    "            except KeyError:\n",
    "                pass\n",
    "            \n",
    "    key_sim = text_similarity(user_keyword,answer_keyword)\n",
    "    score = round((sum(sim_list) / len(sim_list))*50 + (key_sim*0.5))\n",
    "\n",
    "    return score"
   ]
  },
  {
   "cell_type": "markdown",
   "metadata": {
    "id": "qX5-ayIPedo5"
   },
   "source": [
    "# main"
   ]
  },
  {
   "cell_type": "code",
   "execution_count": 98,
   "metadata": {
    "id": "XwwVSQH1eeNx"
   },
   "outputs": [],
   "source": [
    "def evaluate(audio_file, answer):\n",
    "    audio_segment = processing_audio(audio_file)\n",
    "    audioContents = segment(audio_segment,interval = 5000)\n",
    "\n",
    "    user,score = score_pronunciation(audioContents) \n",
    "    komoran = Komoran()\n",
    "    model = Word2Vec.load('/content/ko.bin')\n",
    "    \n",
    "    user_token,user_nouns,user_all_token = tokenizing(komoran,user)\n",
    "    answer_token,answer_nouns,answer_all_token = tokenizing(komoran,answer)\n",
    "    user_dict = expression(user, user_token, user_all_token)\n",
    "    answer_dict = expression(answer, answer_token, answer_all_token)\n",
    "\n",
    "    answer_keyword = keyword(answer_nouns)\n",
    "    user_keyword = keyword(user_nouns)\n",
    "    \n",
    "    flu = score_fluency(audio_segment)\n",
    "    pro = score\n",
    "    exp = score_expression(user_dict,answer_dict)\n",
    "    sim = score_similarity(user_all_token,user_nouns,answer_all_token,answer_nouns)\n",
    "    rel = score_relevance(model,answer_keyword, user_keyword)\n",
    "    \n",
    "    \n",
    "    return dict(zip(['유창성','발음평가','표현력','유사도','주제의 연관성'],[flu,pro,exp,sim,rel]))"
   ]
  },
  {
   "cell_type": "markdown",
   "metadata": {
    "id": "bBHxJ0DV7Ht_"
   },
   "source": [
    "* 정답과 전혀 관련 없는 음성 test"
   ]
  },
  {
   "cell_type": "code",
   "execution_count": 99,
   "metadata": {
    "colab": {
     "base_uri": "https://localhost:8080/"
    },
    "id": "WgqmohTKe5cX",
    "outputId": "3c70d87d-468f-428f-f0ec-2448c51b0a03"
   },
   "outputs": [
    {
     "data": {
      "text/plain": [
       "{'발음평가': 60, '유사도': 12, '유창성': 94, '주제의 연관성': 4, '표현력': 100}"
      ]
     },
     "execution_count": 99,
     "metadata": {},
     "output_type": "execute_result"
    }
   ],
   "source": [
    "audioFilePath = \"/content/weekend_ordi.mp3\"\n",
    "\n",
    "answer = \"제 취미는 영화 보기예요. 저는 시간 있을 때 영화관에 가요. 집에서도 영화를 자주 봐요. 저는 재미있는 영화를 좋아해요. 슬픈 영화도 잘 봐요. 저는 이번 주말에 친구와 함께 영화관에 갈 거예요.\"\n",
    "evaluate(audioFilePath, answer)"
   ]
  },
  {
   "cell_type": "markdown",
   "metadata": {
    "id": "LjLwUDxw7J_G"
   },
   "source": [
    "* 정답과 관련 있는 음성 test"
   ]
  },
  {
   "cell_type": "code",
   "execution_count": 100,
   "metadata": {
    "colab": {
     "base_uri": "https://localhost:8080/"
    },
    "id": "o_XMsfMB0ftG",
    "outputId": "e6dd6eaf-ca00-4bd4-e34c-27cc19a1091f"
   },
   "outputs": [
    {
     "data": {
      "text/plain": [
       "{'발음평가': 60, '유사도': 78, '유창성': 82, '주제의 연관성': 59, '표현력': 100}"
      ]
     },
     "execution_count": 100,
     "metadata": {},
     "output_type": "execute_result"
    }
   ],
   "source": [
    "audioFilePath = \"/content/fast.mp3\"\n",
    "\n",
    "answer = \"제 취미는 영화 보기예요. 저는 시간 있을 때 영화관에 가요. 집에서도 영화를 자주 봐요. 저는 재미있는 영화를 좋아해요. 슬픈 영화도 잘 봐요. 저는 이번 주말에 친구와 함께 영화관에 갈 거예요.\"\n",
    "evaluate(audioFilePath, answer)"
   ]
  },
  {
   "cell_type": "markdown",
   "metadata": {
    "id": "GEXZw0W-8LAt"
   },
   "source": [
    "* 정답과 연관은 있고, 짧고 빨리 말한 음성 test"
   ]
  },
  {
   "cell_type": "code",
   "execution_count": 101,
   "metadata": {
    "colab": {
     "base_uri": "https://localhost:8080/"
    },
    "id": "QdSIaTNl8IIV",
    "outputId": "b131226f-a56d-4406-9981-a79704f3c3c6"
   },
   "outputs": [
    {
     "data": {
      "text/plain": [
       "{'발음평가': 80, '유사도': 49, '유창성': 100, '주제의 연관성': 61, '표현력': 57}"
      ]
     },
     "execution_count": 101,
     "metadata": {},
     "output_type": "execute_result"
    }
   ],
   "source": [
    "audioFilePath = '/content/TEST1.mp3'\n",
    "\n",
    "answer = \"제 취미는 영화 보기예요. 저는 시간 있을 때 영화관에 가요. 집에서도 영화를 자주 봐요. 저는 재미있는 영화를 좋아해요. 슬픈 영화도 잘 봐요. 저는 이번 주말에 친구와 함께 영화관에 갈 거예요.\"\n",
    "evaluate(audioFilePath, answer)"
   ]
  },
  {
   "cell_type": "markdown",
   "metadata": {
    "id": "vJrxl97E6-Ts"
   },
   "source": [
    "# 문제점\n",
    "* 표현력 점수 기준이 낮아서 그런지 100점이 자주나옴. 기준을 좀 높이기.\n",
    "* 주제의 연관성이 연관성 있는 것에 비해서 너무 낮게나온다. 키워드가 일치하면 추가 점수를 주는 방향을 고려해보기."
   ]
  },
  {
   "cell_type": "markdown",
   "metadata": {
    "id": "bykOwUp7fYuC"
   },
   "source": [
    "# Ex"
   ]
  },
  {
   "cell_type": "code",
   "execution_count": 89,
   "metadata": {
    "id": "6aA4XLq0elVQ"
   },
   "outputs": [],
   "source": [
    "audioFilePath = \"/content/fast.mp3\"\n",
    "#audioFilePath = \"/content/weekend_ordi.mp3\"\n",
    "#audioFilePath = '/content/TEST1.mp3'\n",
    "audio_segment = processing_audio(audioFilePath)\n",
    "audioContents = segment(audio_segment,interval = 5000)\n",
    "user,score = score_pronunciation(audioContents)"
   ]
  },
  {
   "cell_type": "code",
   "execution_count": 90,
   "metadata": {
    "colab": {
     "base_uri": "https://localhost:8080/",
     "height": 53
    },
    "id": "Eb3eSdnHyjpI",
    "outputId": "4f8d902b-ef4a-4ce3-a03e-b73ae6448dca"
   },
   "outputs": [
    {
     "data": {
      "application/vnd.google.colaboratory.intrinsic+json": {
       "type": "string"
      },
      "text/plain": [
       "'대 치미 는 영화 보기 입 니다.저 는 시간 있 으면 영화관 에 가 요.저 는 영화 가 재밌 어야 좋 아 요.슬픈 영화 는 싫 어 해 요 저 는.친구 와 함께 영화관 에 갈 거 에 요.'"
      ]
     },
     "execution_count": 90,
     "metadata": {},
     "output_type": "execute_result"
    }
   ],
   "source": [
    "user"
   ]
  },
  {
   "cell_type": "code",
   "execution_count": 91,
   "metadata": {
    "id": "P4gpse_vCOkx"
   },
   "outputs": [],
   "source": [
    "threshold = -80\n",
    "interval = 1\n",
    "user_silence = get_silence(audio_segment, threshold, interval)"
   ]
  },
  {
   "cell_type": "code",
   "execution_count": 96,
   "metadata": {
    "colab": {
     "base_uri": "https://localhost:8080/"
    },
    "id": "cdUxjYRFiOsN",
    "outputId": "edcb4a2f-9e3c-4a21-bd19-ff11c7ac443f"
   },
   "outputs": [
    {
     "data": {
      "text/plain": [
       "82"
      ]
     },
     "execution_count": 96,
     "metadata": {},
     "output_type": "execute_result"
    }
   ],
   "source": [
    "score_fluency(audio_segment)"
   ]
  },
  {
   "cell_type": "code",
   "execution_count": 51,
   "metadata": {
    "colab": {
     "base_uri": "https://localhost:8080/"
    },
    "id": "oJ19VcZqhO1r",
    "outputId": "1e783fb6-0818-43f5-d2b7-f52ab5e02e44"
   },
   "outputs": [
    {
     "data": {
      "text/plain": [
       "80"
      ]
     },
     "execution_count": 51,
     "metadata": {},
     "output_type": "execute_result"
    }
   ],
   "source": [
    "score"
   ]
  },
  {
   "cell_type": "code",
   "execution_count": 52,
   "metadata": {
    "id": "eMN3LDuRfXbM"
   },
   "outputs": [],
   "source": [
    "komoran = Komoran()\n",
    "model = Word2Vec.load('/content/ko.bin')\n",
    "user_token,user_nouns,user_all_token = tokenizing(komoran,user)\n",
    "answer_token,answer_nouns,answer_all_token = tokenizing(komoran,answer)\n",
    "user_dict = expression(user, user_token, user_all_token)\n",
    "answer_dict = expression(answer, answer_token, answer_all_token)\n",
    "\n",
    "answer_keyword = keyword(answer_nouns)\n",
    "user_keyword = keyword(user_nouns)"
   ]
  },
  {
   "cell_type": "code",
   "execution_count": 53,
   "metadata": {
    "colab": {
     "base_uri": "https://localhost:8080/"
    },
    "id": "eW5PRgWTylbQ",
    "outputId": "71d814be-eff7-4937-fe3e-a2d339bfc878"
   },
   "outputs": [
    {
     "data": {
      "text/plain": [
       "['취미', '영화', '입', '니다', '시간', '영화관', '갑', '니다']"
      ]
     },
     "execution_count": 53,
     "metadata": {},
     "output_type": "execute_result"
    }
   ],
   "source": [
    "user_nouns"
   ]
  },
  {
   "cell_type": "code",
   "execution_count": 54,
   "metadata": {
    "colab": {
     "base_uri": "https://localhost:8080/"
    },
    "id": "ktF8WeZ8yr7g",
    "outputId": "841e4550-cd71-4449-91c3-164b968a68ce"
   },
   "outputs": [
    {
     "data": {
      "text/plain": [
       "['취미', '영화', '시간', '때', '영화관', '집', '영화', '영화', '영화', '이번', '주말', '친구', '영화관']"
      ]
     },
     "execution_count": 54,
     "metadata": {},
     "output_type": "execute_result"
    }
   ],
   "source": [
    "answer_nouns"
   ]
  },
  {
   "cell_type": "code",
   "execution_count": 55,
   "metadata": {
    "colab": {
     "base_uri": "https://localhost:8080/"
    },
    "id": "3au6bBXqfeCN",
    "outputId": "ea841178-d958-4c34-8412-bd706749afe5"
   },
   "outputs": [
    {
     "data": {
      "text/plain": [
       "['니다', '취미', '영화']"
      ]
     },
     "execution_count": 55,
     "metadata": {},
     "output_type": "execute_result"
    }
   ],
   "source": [
    "answer_keyword = keyword(answer_nouns)\n",
    "user_keyword = keyword(user_nouns)\n",
    "user_keyword"
   ]
  },
  {
   "cell_type": "code",
   "execution_count": 56,
   "metadata": {
    "colab": {
     "base_uri": "https://localhost:8080/"
    },
    "id": "SOd4UzqNgcIb",
    "outputId": "48727b3c-b858-40cf-b671-663c0d369ae1"
   },
   "outputs": [
    {
     "data": {
      "text/plain": [
       "['영화', '영화관', '취미']"
      ]
     },
     "execution_count": 56,
     "metadata": {},
     "output_type": "execute_result"
    }
   ],
   "source": [
    "answer_keyword"
   ]
  },
  {
   "cell_type": "code",
   "execution_count": 58,
   "metadata": {
    "colab": {
     "base_uri": "https://localhost:8080/"
    },
    "id": "BiWQ6Kmb9Fpo",
    "outputId": "76109a6d-90a8-4c44-8147-ae868f86f060"
   },
   "outputs": [
    {
     "data": {
      "text/plain": [
       "{'avg_len': 9, 'sent_len': 2, 'text_len': 27, 'word_len': 19}"
      ]
     },
     "execution_count": 58,
     "metadata": {},
     "output_type": "execute_result"
    }
   ],
   "source": [
    "user_dict"
   ]
  },
  {
   "cell_type": "code",
   "execution_count": 59,
   "metadata": {
    "colab": {
     "base_uri": "https://localhost:8080/"
    },
    "id": "Y7B3QWoQ9Gm0",
    "outputId": "5e34e365-1752-47ae-9059-54f75f34530d"
   },
   "outputs": [
    {
     "data": {
      "text/plain": [
       "{'avg_len': 9, 'sent_len': 6, 'text_len': 81, 'word_len': 54}"
      ]
     },
     "execution_count": 59,
     "metadata": {},
     "output_type": "execute_result"
    }
   ],
   "source": [
    "answer_dict"
   ]
  },
  {
   "cell_type": "code",
   "execution_count": 75,
   "metadata": {
    "colab": {
     "base_uri": "https://localhost:8080/"
    },
    "id": "l9kuj7f-gjla",
    "outputId": "0f210441-5955-4f14-cc61-c4e80087a0a5"
   },
   "outputs": [
    {
     "data": {
      "text/plain": [
       "57"
      ]
     },
     "execution_count": 75,
     "metadata": {},
     "output_type": "execute_result"
    }
   ],
   "source": [
    "score_expression(user_dict,answer_dict)"
   ]
  },
  {
   "cell_type": "code",
   "execution_count": 34,
   "metadata": {
    "colab": {
     "base_uri": "https://localhost:8080/"
    },
    "id": "do391iK4gm9N",
    "outputId": "e46b1804-27a7-4900-f828-cfe31ade4335"
   },
   "outputs": [
    {
     "data": {
      "text/plain": [
       "4"
      ]
     },
     "execution_count": 34,
     "metadata": {},
     "output_type": "execute_result"
    }
   ],
   "source": [
    "score_relevance(model,answer_keyword, user_keyword)"
   ]
  },
  {
   "cell_type": "code",
   "execution_count": 35,
   "metadata": {
    "colab": {
     "base_uri": "https://localhost:8080/"
    },
    "id": "9BTlQCCygoxI",
    "outputId": "a754ffda-8407-4b35-936d-3a9f6a792886"
   },
   "outputs": [
    {
     "data": {
      "text/plain": [
       "12"
      ]
     },
     "execution_count": 35,
     "metadata": {},
     "output_type": "execute_result"
    }
   ],
   "source": [
    "score_similarity(user_all_token,user_nouns,answer_all_token,answer_nouns)"
   ]
  },
  {
   "cell_type": "code",
   "execution_count": 177,
   "metadata": {
    "id": "cAhvILP60lMW"
   },
   "outputs": [],
   "source": []
  }
 ],
 "metadata": {
  "colab": {
   "collapsed_sections": [],
   "name": "mp3_to_API.ipynb",
   "provenance": []
  },
  "kernelspec": {
   "display_name": "Python 3",
   "language": "python",
   "name": "python3"
  },
  "language_info": {
   "codemirror_mode": {
    "name": "ipython",
    "version": 3
   },
   "file_extension": ".py",
   "mimetype": "text/x-python",
   "name": "python",
   "nbconvert_exporter": "python",
   "pygments_lexer": "ipython3",
   "version": "3.8.8"
  }
 },
 "nbformat": 4,
 "nbformat_minor": 1
}
